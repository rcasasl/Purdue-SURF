{
 "cells": [
  {
   "cell_type": "code",
   "execution_count": 348,
   "metadata": {},
   "outputs": [],
   "source": [
    "import numpy as np\n",
    "import sympy as sp\n",
    "from sympy.physics.quantum import TensorProduct\n",
    "\n",
    "# Define constants for Fibonacci anyons\n",
    "phi = (1 + sp.sqrt(5)) / 2\n",
    "phi2 = phi**(-1)\n",
    "\n",
    "# Define the F matrix\n",
    "F = sp.Matrix([[phi2, sp.sqrt(phi2)], [sp.sqrt(phi2), -phi2]]).evalf()\n",
    "\n",
    "# Define the R matrix\n",
    "R = np.array([sp.exp(-4 * sp.pi * 1j / 5), sp.exp(3 * sp.pi * 1j / 5)])\n",
    "\n",
    "# Define the basis states\n",
    "basis_states = [(1, 1), (1, 'tau'), ('tau', 1), ('tau', 'tau')]\n",
    "\n",
    "# Define the index mapping\n",
    "basis_index = {(1, 1): 0, (1, 'tau'): 1, ('tau', 1): 2, ('tau', 'tau'): 3}\n",
    "\n",
    "# Define the Fibonacci anyon fusion rules\n",
    "def fibonacci_fusion_rule(anyon1, anyon2):\n",
    "    if anyon1 == 'tau' and anyon2 == 'tau':\n",
    "        return [1, 'tau']\n",
    "    if (anyon1 == 'tau' and anyon2 == 1) or (anyon1 == 1 and anyon2 == 'tau'):\n",
    "        return ['tau']\n",
    "    if anyon1 == 1 and anyon2 == 1:\n",
    "        return [1]\n",
    "    else:\n",
    "        return 0\n",
    "\n",
    "#F-matrix\n",
    "def Fma(a, b, c, d, x, y):    \n",
    "    if x in fibonacci_fusion_rule(a,b) and y in fibonacci_fusion_rule(b,c):\n",
    "        if d in fibonacci_fusion_rule(x,c) and d in fibonacci_fusion_rule(y,a):\n",
    "            # Check the consistency of fusion rules\n",
    "            if a == 1 or b == 1 or c == 1 or d == 1:\n",
    "                return 1\n",
    "            if x == 1 and y == 1:\n",
    "                return phi2\n",
    "            if (x == 1 and y == 'tau') or (x == 'tau' and y == 1):\n",
    "                return sp.sqrt(phi2)\n",
    "            if x == 'tau' and y == 'tau':\n",
    "                return -phi2\n",
    "        else:\n",
    "            return 0\n",
    "    else:\n",
    "        return 0"
   ]
  },
  {
   "cell_type": "code",
   "execution_count": 349,
   "metadata": {},
   "outputs": [],
   "source": [
    "###Sigma 1\n",
    "sigma1 = sp.Matrix(np.zeros((5, 5), dtype=complex)).evalf()\n",
    "for i in range(5):\n",
    "    if i in {0, 1}:\n",
    "        sigma1[i, i] = R[0]\n",
    "    elif i in {2, 3, 4}:\n",
    "        sigma1[i, i] = R[1]\n",
    "        \n",
    "sigma1f = sigma1.evalf()\n",
    "# Print the sigma1 matrix\n",
    "#print(sigma1)\n",
    "#sp.pprint(sigma1)"
   ]
  },
  {
   "cell_type": "code",
   "execution_count": 350,
   "metadata": {},
   "outputs": [],
   "source": [
    "\n",
    "###Sigma 2\n",
    "# Initialize the sigma2 matrix with zeros (4x4 matrix)\n",
    "sigma2 = sp.Matrix(np.zeros((5, 5), dtype=complex))\n",
    "#F = {(1,1):phi2, (1,'tau'):np.sqrt(phi2), ('tau', 1): np.sqrt(phi2), ('tau', 'tau'): -phi2}\n",
    "\n",
    "# Function to add terms to the sigma2 matrix\n",
    "def add_terms(i, x, y, term1, term2, term3, sigma):\n",
    "    if (x, y) in basis_index:\n",
    "        sigma[basis_index[(1, y)], i] += term1\n",
    "        sigma[basis_index[('tau', y)], i] += term2\n",
    "        sigma[-1,-1] = term3\n",
    "# Define the computation for each basis state\n",
    "for i, (x, y) in enumerate(basis_states):\n",
    "    for j, (z, Rz) in enumerate(zip([1, 'tau'], R)):\n",
    "        term1 = Fma('tau','tau','tau','tau',x, z) * Rz * Fma('tau','tau','tau','tau',z, 1)\n",
    "        term2 = Fma('tau','tau','tau','tau',x, z) * Rz * Fma('tau','tau','tau','tau',z, 'tau')\n",
    "        term3 = R[1] \n",
    "        add_terms(i, x, y, term1, term2,term3, sigma2)    \n",
    "sigma2f = sp.simplify(sigma2).evalf()\n",
    "#print(sigma2)\n",
    "#sp.pprint(sigma2)  "
   ]
  },
  {
   "cell_type": "code",
   "execution_count": 351,
   "metadata": {},
   "outputs": [],
   "source": [
    "###Sigma 3\n",
    "# Initialize the sigma2 matrix with zeros\n",
    "sigma3 = sp.Matrix(np.zeros((5, 5), dtype=complex))\n",
    "\n",
    "# Function to add terms to the sigma2 matrix\n",
    "def add_terms2(i, x, y, term3,term4,sigma):\n",
    "    if (x, y) in basis_index:\n",
    "        sigma[basis_index[(x, y)],i] += term3\n",
    "        sigma[-1,i] += term4\n",
    "\n",
    "# Define the computation for each basis state\n",
    "for i, (x, y) in enumerate(basis_states):\n",
    "        for j, (z, Rz) in enumerate(zip([1, 'tau'], R)):\n",
    "                term3 = Fma('tau','tau',y,x, z, 'tau') * Rz * Fma('tau','tau',y,x,z,'tau')\n",
    "                term4 = Fma('tau','tau',y,x,z, 'tau') * Rz * Fma('tau','tau',y,x,z,1)\n",
    "                add_terms2(i, x, y, term3,term4, sigma3)\n",
    "                \n",
    "# Function to add terms to the sigma2 matrix\n",
    "def add_terms5(x, y, term5,term6,sigma):\n",
    "    if (x, y) in basis_index:\n",
    "        sigma[-1,-1] += term5\n",
    "        sigma[3,4] += term6\n",
    "          \n",
    "for z, Rz in zip([1,'tau'],R):\n",
    "        term5 = Fma('tau','tau','tau','tau',z,1) * Rz * Fma('tau','tau','tau','tau',z,1)\n",
    "        term6 = Fma('tau','tau','tau','tau',z,1) * Rz * Fma('tau','tau','tau','tau',z,'tau') \n",
    "        add_terms5(x, y, term5,term6, sigma3)\n",
    "              \n",
    "sigma3f = sp.simplify(sigma3).evalf()                        \n",
    "#sp.pprint(sigma3[:,4])  "
   ]
  },
  {
   "cell_type": "code",
   "execution_count": 352,
   "metadata": {},
   "outputs": [],
   "source": [
    "###Sigma 4\n",
    "# Initialize the sigma2 matrix with zeros (4x4 matrix)\n",
    "sigma4 = sp.Matrix(np.zeros((4, 4), dtype=complex))\n",
    "#F = {(1,1):phi2, (1,'tau'):np.sqrt(phi2), ('tau', 1): np.sqrt(phi2), ('tau', 'tau'): -phi2}\n",
    "\n",
    "# Function to add terms to the sigma2 matrix\n",
    "def add_terms1(i, x, y, term3, term4, sigma):\n",
    "    if (x, y) in basis_index:\n",
    "        sigma[basis_index[(x, 1)], i] += term3\n",
    "        sigma[basis_index[(x, 'tau')], i] += term4\n",
    "\n",
    "# Define the computation for each basis state\n",
    "for i, (x, y) in enumerate(basis_states):\n",
    "    for j, (z, Rz) in enumerate(zip([1, 'tau'], R)):\n",
    "        term3 = F[y != 1, j] * Rz * F[j, 0]\n",
    "        term4 = F[y != 1, j] * Rz * F[j, 1]\n",
    "        add_terms1(i, x, y, term3, term4, sigma4)    \n",
    "                \n",
    "rows, cols = sigma4.shape\n",
    "extended_sigma4 = sp.Matrix(np.zeros((rows + 1, cols + 1), dtype=complex))\n",
    "extended_sigma4[:rows, :cols] = sigma4\n",
    "extended_sigma4[4,4] = R[1]\n",
    "sigma4f = extended_sigma4.evalf()\n",
    "#sp.pprint(sigma4f[:,0])  "
   ]
  },
  {
   "cell_type": "code",
   "execution_count": 353,
   "metadata": {},
   "outputs": [],
   "source": [
    "###Sigma 5\n",
    "sigma5 = sp.Matrix(np.zeros((5, 5), dtype=complex))\n",
    "for i in range(5):\n",
    "    if i in {0, 2}:\n",
    "        sigma5[i, i] = R[0]\n",
    "    elif i in {1, 3, 4}:\n",
    "        sigma5[i, i] = R[1]\n",
    "\n",
    "sigma5f = sigma5.evalf()\n",
    "#sp.pprint(sigma5[:,4])"
   ]
  },
  {
   "cell_type": "code",
   "execution_count": 354,
   "metadata": {},
   "outputs": [],
   "source": [
    "\n",
    "# Compute sigma1 * sigma2 * sigma1\n",
    "product1 = sp.simplify(sigma1f@sigma2f@sigma1f)\n",
    "\n",
    "# Compute sigma2 * sigma1 * sigma2\n",
    "product2 = sp.simplify(sigma2f@sigma1f@sigma2f)\n",
    "\n",
    "# Compute sigma2 * sigma3 * sigma2\n",
    "product11 = sp.simplify(sigma2f@sigma3f@sigma2f)\n",
    "\n",
    "# Compute sigma3 * sigma2 * sigma3\n",
    "product12 = sp.simplify(sigma3f@sigma2f@sigma3f)\n",
    "\n",
    "# Compute sigma2 * sigma3 * sigma2\n",
    "product13 = sp.simplify(sigma3f@sigma4f@sigma3f)\n",
    "\n",
    "# Compute sigma3 * sigma2 * sigma3\n",
    "product14 = sp.simplify(sigma4f@sigma3f@sigma4f)\n",
    "\n",
    "# Compute sigma4 * sigma5 * sigma4\n",
    "product3 = sp.simplify(sigma5f@sigma4f@sigma5f)\n",
    "\n",
    "# Compute sigma5 * sigma4 * sigma5\n",
    "product4 = sp.simplify(sigma4f@sigma5f@sigma4f)\n",
    "\n",
    "# Compute sigma1 * sigma4\n",
    "product5 = sp.simplify(sigma1f@sigma4f)\n",
    "\n",
    "# Compute sigma4 * sigma1\n",
    "product6 = sp.simplify(sigma4f@sigma1f)\n",
    "\n",
    "# Compute sigma1 * sigma5\n",
    "product7 = sp.simplify(sigma1f@sigma5f)\n",
    "\n",
    "# Compute sigma5 * sigma1\n",
    "product8 = sp.simplify(sigma5f@sigma1f)\n",
    "\n",
    "# Compute sigma2 * sigma5\n",
    "product9 = sp.simplify(sigma2f@sigma5f)\n",
    "\n",
    "# Compute sigma5 * sigma2\n",
    "product10 = sp.simplify(sigma5f@sigma2f)"
   ]
  },
  {
   "cell_type": "code",
   "execution_count": 355,
   "metadata": {},
   "outputs": [
    {
     "name": "stdout",
     "output_type": "stream",
     "text": [
      "σ₁σ₂σ₁ = σ₂σ₁σ₂ is verified\n",
      "σ₂σ₃σ₂ = σ₃σ₂σ₃ is verified\n",
      "σ₃σ₄σ₃ = σ₄σ₃σ₄ is verified\n",
      "σ₄σ₅σ₄ = σ₅σ₄σ₅ is verified\n",
      "σ₁σ₄ = σ₄σ₁ is verified\n",
      "σ₁σ₅ = σ₅σ₁ is verified\n",
      "σ₂σ₅ = σ₅σ₂ is verified\n"
     ]
    }
   ],
   "source": [
    "def compare_matrices(matrix1, matrix2,tolerance=1e-9):\n",
    "    if matrix1.shape != matrix2.shape:\n",
    "        return False, {\"reason\": \"Matrices have different shapes\"}\n",
    "\n",
    "    unequal_elements = {}\n",
    "    are_equal = True\n",
    "    \n",
    "    for i in range(matrix1.shape[0]):\n",
    "        for j in range(matrix1.shape[1]):\n",
    "            if np.abs(matrix1[i, j] - matrix2[i, j]) >= tolerance:\n",
    "                are_equal = False\n",
    "                unequal_elements[(i, j)] = (matrix1[i, j], matrix2[i, j])\n",
    "    \n",
    "    if are_equal:\n",
    "        return True, {}\n",
    "    else:\n",
    "        return False, unequal_elements\n",
    "#sigma_1 = \"\\u03C3\\u2081\"\n",
    "#sigma_2 = \"\\u03C3\\u2082\"\n",
    "#sigma_3 = \"\\u03C3\\u2083\"\n",
    "#sigma_4 = \"\\u03C3\\u2084\"\n",
    "#sigma_5 = \"\\u03C3\\u2085\"\n",
    "\n",
    "# Sigma1 and Sigma2\n",
    "\n",
    "are_equal, details = compare_matrices(product1, product1)\n",
    "if are_equal:\n",
    "    print(\"\\u03C3\\u2081\\u03C3\\u2082\\u03C3\\u2081 = \\u03C3\\u2082\\u03C3\\u2081\\u03C3\\u2082 is verified\")\n",
    "else:\n",
    "    print(\"Matrices are not equal.\")\n",
    "    print(\"Unequal elements found at:\")\n",
    "    for position, values in details.items():\n",
    "        print(f\"Position {position}: Matrix1 has {values[0]}, Matrix2 has {values[1]}\")\n",
    "        \n",
    "# Sigma2 and Sigma3\n",
    "\n",
    "are_equal, details = compare_matrices(product11, product12)\n",
    "if are_equal:\n",
    "    print(\"\\u03C3\\u2082\\u03C3\\u2083\\u03C3\\u2082 = \\u03C3\\u2083\\u03C3\\u2082\\u03C3\\u2083 is verified\")\n",
    "else:\n",
    "    print(\"Matrices are not equal.\")\n",
    "    print(\"Unequal elements found at:\")\n",
    "    for position, values in details.items():\n",
    "        print(f\"Position {position}: Matrix1 has {values[0]}, Matrix2 has {values[1]}\")\n",
    "        \n",
    "#Sigma 3 and Sigma4\n",
    "\n",
    "are_equal, details = compare_matrices(product13, product14)\n",
    "if are_equal:\n",
    "    print(\"\\u03C3\\u2083\\u03C3\\u2084\\u03C3\\u2083 = \\u03C3\\u2084\\u03C3\\u2083\\u03C3\\u2084 is verified\")\n",
    "else:\n",
    "    print(\"Matrices are not equal.\")\n",
    "    print(\"Unequal elements found at:\")\n",
    "    for position, values in details.items():\n",
    "        print(f\"Position {position}: Matrix1 has {values[0]}, Matrix2 has {values[1]}\")        \n",
    "        \n",
    "# Sigma5 and Sigma4\n",
    "\n",
    "are_equal, details = compare_matrices(product3, product4)\n",
    "if are_equal:\n",
    "    print(\"\\u03C3\\u2084\\u03C3\\u2085\\u03C3\\u2084 = \\u03C3\\u2085\\u03C3\\u2084\\u03C3\\u2085 is verified\")\n",
    "else:\n",
    "    print(\"Matrices are not equal.\")\n",
    "    print(\"Unequal elements found at:\")\n",
    "    for position, values in details.items():\n",
    "        print(f\"Position {position}: Matrix1 has {values[0]}, Matrix2 has {values[1]}\")\n",
    "    \n",
    "# Sigma1 and Sigma4\n",
    "\n",
    "are_equal, details = compare_matrices(product5, product6)\n",
    "if are_equal:\n",
    "    print(\"\\u03C3\\u2081\\u03C3\\u2084 = \\u03C3\\u2084\\u03C3\\u2081 is verified\")\n",
    "else:\n",
    "    print(\"Matrices are not equal.\")\n",
    "    print(\"Unequal elements found at:\")\n",
    "    for position, values in details.items():\n",
    "        print(f\"Position {position}: Matrix1 has {values[0]}, Matrix2 has {values[1]}\")\n",
    "        \n",
    "# Sigma1 and Sigma5\n",
    "\n",
    "are_equal, details = compare_matrices(product7, product8)\n",
    "if are_equal:\n",
    "    print(\"\\u03C3\\u2081\\u03C3\\u2085 = \\u03C3\\u2085\\u03C3\\u2081 is verified\")\n",
    "else:\n",
    "    print(\"Matrices are not equal.\")\n",
    "    print(\"Unequal elements found at:\")\n",
    "    for position, values in details.items():\n",
    "        print(f\"Position {position}: Matrix1 has {values[0]}, Matrix2 has {values[1]}\")\n",
    "\n",
    "# Sigma2 and Sigma5\n",
    "\n",
    "are_equal, details = compare_matrices(product9, product10)\n",
    "if are_equal:\n",
    "    print(\"\\u03C3\\u2082\\u03C3\\u2085 = \\u03C3\\u2085\\u03C3\\u2082 is verified\")\n",
    "else:\n",
    "    print(\"Matrices are not equal.\")\n",
    "    print(\"Unequal elements found at:\")\n",
    "    for position, values in details.items():\n",
    "        print(f\"Position {position}: Matrix1 has {values[0]}, Matrix2 has {values[1]}\")\n",
    "    \n",
    "        "
   ]
  },
  {
   "cell_type": "code",
   "execution_count": 356,
   "metadata": {},
   "outputs": [
    {
     "name": "stdout",
     "output_type": "stream",
     "text": [
      "True\n",
      "True\n"
     ]
    }
   ],
   "source": [
    "#Leakage-Free\n",
    "def Leakagefree(sigma,tol=1e-10):\n",
    "    sigmaf = sp.simplify(sigma).evalf()\n",
    "    norm = sp.simplify(((sp.re(sigmaf[-1,-1])**(2)) + (sp.im(sigmaf[-1,-1])**(2)))**(1/2))\n",
    "    #print(norm)\n",
    "    if abs(norm - 1 ) < tol:\n",
    "        return True\n",
    "    else:\n",
    "        return False\n",
    "\n",
    "#Test\n",
    "test1 = (sigma3f@sigma2f@sigma1f)@(sigma1f@sigma2f@sigma3f)\n",
    "test2 = (sigma1f@sigma2f@sigma1f)@(sigma5f@sigma4f@sigma5f)@(sigma3f@sigma2f@sigma1f)@(sigma4f@sigma3f@sigma2f)@(sigma5f@sigma4f@sigma3f)\n",
    "#sp.pprint(sp.simplify(sp.Abs(test2[4,4])))\n",
    "print(Leakagefree(test1))\n",
    "print(Leakagefree(test2))"
   ]
  },
  {
   "cell_type": "code",
   "execution_count": 357,
   "metadata": {},
   "outputs": [],
   "source": [
    "def set_small_values_to_zero(matrix, tolerance=1e-17):\n",
    "    mutable_matrix = matrix.as_mutable()  # Convert to mutable matrix\n",
    "    for i in range(mutable_matrix.rows):\n",
    "        for j in range(mutable_matrix.cols):\n",
    "            if abs(sp.re(mutable_matrix[i, j])) < tolerance and abs(sp.im(mutable_matrix[i, j])) < tolerance:\n",
    "                mutable_matrix[i, j] = 0\n",
    "            elif abs(sp.re(mutable_matrix[i, j])) > tolerance and abs(sp.im(mutable_matrix[i, j])) < tolerance:\n",
    "                mutable_matrix[i,j] = sp.re(mutable_matrix[i,j])\n",
    "            elif abs(sp.re(mutable_matrix[i, j])) < tolerance and abs(sp.im(mutable_matrix[i, j])) > tolerance:\n",
    "                mutable_matrix[i,j] = sp.im(mutable_matrix[i,j])*sp.I\n",
    "            elif abs(sp.re(mutable_matrix[i, j])) > tolerance and abs(sp.im(mutable_matrix[i, j])) > tolerance:\n",
    "                continue\n",
    "    return mutable_matrix"
   ]
  },
  {
   "cell_type": "code",
   "execution_count": 358,
   "metadata": {},
   "outputs": [],
   "source": [
    "#Entangling\n",
    "SWAP = sp.Matrix([[1,0,0,0],[0,0,1,0],[0,1,0,0],[0,0,0,1]])\n",
    "\n",
    "def are_proportional(matrix1, matrix2, tol=1e-10):\n",
    "    #matrix1 = set_small_values_to_zero(Matrix1)\n",
    "    #matrix2 = set_small_values_to_zero(Matrix2)\n",
    "    if matrix1.shape != matrix2.shape:\n",
    "        return None, False\n",
    "    # Calculate the ratios of corresponding elements\n",
    "    ratios = []\n",
    "    for i in range(matrix1.shape[0]):\n",
    "        for j in range(matrix1.shape[1]):\n",
    "            if matrix1[i,j] != 0:\n",
    "                ratio = sp.simplify(matrix2[i, j] / matrix1[i, j])\n",
    "                ratios.append(ratio)\n",
    "            elif matrix1[i, j] == 0  and matrix2[i,j] == 0:\n",
    "                continue\n",
    "            elif matrix1[i, j] == 0 and matrix2[i,j] != 0:\n",
    "                return None, False  \n",
    "    # Check if all ratios are the same (within a tolerance for floating-point comparisons)\n",
    "    #sp.pprint(ratios)\n",
    "    #sp.pprint(ratios[1:])\n",
    "    first_ratio = ratios[0]\n",
    "    if len(ratios) == 1:\n",
    "        return sp.simplify(first_ratio), True\n",
    "    elif len(ratios) > 1:\n",
    "        for ratio in ratios[1:]:\n",
    "            diff = sp.simplify(first_ratio - ratio).evalf()\n",
    "            if abs(sp.re(diff)) < tol and abs(sp.im(diff)) < tol:\n",
    "                return sp.simplify(first_ratio) , True\n",
    "            else:\n",
    "                return None, False\n",
    "    else:\n",
    "        return None, False"
   ]
  },
  {
   "cell_type": "code",
   "execution_count": 359,
   "metadata": {},
   "outputs": [],
   "source": [
    "def is_zero_matrix(matrix,tol=1e-20):\n",
    "    return all(abs(element) < tol for element in matrix)\n"
   ]
  },
  {
   "cell_type": "code",
   "execution_count": 360,
   "metadata": {},
   "outputs": [
    {
     "name": "stdout",
     "output_type": "stream",
     "text": [
      "False\n"
     ]
    }
   ],
   "source": [
    "# Define the Entangling function\n",
    "def Entangling(sigma,tol=1e-20):\n",
    "    sigmafinal = set_small_values_to_zero(sp.simplify(sigma))\n",
    "    if Leakagefree(sigmafinal) == False:\n",
    "        return False\n",
    "    comp_basis_4x4 = sigmafinal[:4, :4]\n",
    "    # Divide into 2x2 matrices\n",
    "    a11B = comp_basis_4x4[:2, :2]\n",
    "    a12B = comp_basis_4x4[:2, 2:]\n",
    "    a21B = comp_basis_4x4[2:, :2]\n",
    "    a22B = comp_basis_4x4[2:, 2:]\n",
    "    matrices = [a11B,a12B,a21B,a22B]\n",
    "    non_zero = []\n",
    "    for matrix in matrices:\n",
    "        if is_zero_matrix(matrix):\n",
    "            continue\n",
    "        else:\n",
    "            non_zero.append(matrix)\n",
    "            \n",
    "    if len(non_zero) == 1:\n",
    "        return False, sp.pprint((non_zero[0]))                      \n",
    "    #sp.pprint(len(non_zero))                    \n",
    "    props = []\n",
    "    ratios = []\n",
    "    for i in range(1, len(non_zero)):\n",
    "        ratio, prop = are_proportional(non_zero[0], non_zero[i])\n",
    "        props.append(prop)\n",
    "        ratios.append(ratio)\n",
    "    #sp.pprint(ratios)\n",
    "    #sp.pprint(props)\n",
    "    if all(props):\n",
    "        B = non_zero[0]\n",
    "        A = sp.Matrix([[0, 0], [0, 0]])\n",
    "        indeces = []\n",
    "        for elem in non_zero:\n",
    "            indeces.append(matrices.index(elem))\n",
    "            \n",
    "        #sp.pprint(indeces)\n",
    "        if indeces[0] == 0:\n",
    "            A[0,0] = 1\n",
    "        elif indeces[0] == 1:\n",
    "            A[0,1] = 1\n",
    "        elif indeces[0] == 2:\n",
    "            A[1,0] = 1\n",
    "        elif indeces[0] == 3:\n",
    "            A[1,1] = 1\n",
    "        #sp.pprint(len(ratios))\n",
    "        for p, n in enumerate(indeces[1:]):\n",
    "            if n == 0:\n",
    "                A[0,0] = ratios[p]\n",
    "            elif n == 1:\n",
    "                A[0,1] = ratios[p]\n",
    "            elif n == 2:\n",
    "                A[1,0] = ratios[p]\n",
    "            elif n == 3:\n",
    "                A[1,1] = ratios[p] \n",
    "        #sp.pprint(A)\n",
    "        #sp.pprint(B)\n",
    "        #sp.pprint(comp_basis_4x4[:,0])\n",
    "        #sp.pprint(sp.simplify(TensorProduct(A,B))[:,0])                     \n",
    "        equal1, detalles1 = compare_matrices(comp_basis_4x4,sp.simplify(TensorProduct(A,B)))\n",
    "        if equal1:\n",
    "            return False\n",
    "        else:\n",
    "            return True,detalles1\n",
    "    else:\n",
    "        new_4x4 = sp.simplify(SWAP@comp_basis_4x4)\n",
    "        # Divide into 2x2 matrices\n",
    "        a11B = new_4x4[:2, :2]\n",
    "        a12B = new_4x4[:2, 2:]\n",
    "        a21B = new_4x4[2:, :2]\n",
    "        a22B = new_4x4[2:, 2:]\n",
    "        matrices = [a11B,a12B,a21B,a22B]\n",
    "        non_zero = []\n",
    "        for matrix in matrices:\n",
    "            if is_zero_matrix(matrix):\n",
    "                continue\n",
    "            else:\n",
    "                non_zero.append(matrix)\n",
    "        if len(non_zero) == 1:\n",
    "            return False, sp.pprint((non_zero[0]))                   \n",
    "    #sp.pprint(len(non_zero))                    \n",
    "        props = []\n",
    "        ratios = []\n",
    "        for i in range(1, len(non_zero)):\n",
    "            ratio, prop = are_proportional(non_zero[0], non_zero[i])\n",
    "            props.append(prop)\n",
    "            ratios.append(ratio)\n",
    "    #sp.pprint(len(ratios))\n",
    "        if all(props):\n",
    "            B = non_zero[0]\n",
    "            A = sp.Matrix([[0, 0], [0, 0]])\n",
    "            indeces = []\n",
    "            for elem in non_zero:\n",
    "                indeces.append(matrices.index(elem))\n",
    "            \n",
    "            #sp.pprint(indeces)\n",
    "            if indeces[0] == 0:\n",
    "                A[0,0] = 1\n",
    "            elif indeces[0] == 1:\n",
    "                A[0,1] = 1\n",
    "            elif indeces[0] == 2:\n",
    "                A[1,0] = 1\n",
    "            elif indeces[0] == 3:\n",
    "                A[1,1] = 1\n",
    "            #sp.pprint(len(ratios))\n",
    "            for p, n in enumerate(indeces[1:]):\n",
    "                if n == 0:\n",
    "                    A[0,0] = ratios[p]\n",
    "                elif n == 1:\n",
    "                    A[0,1] = ratios[p]\n",
    "                elif n == 2:\n",
    "                    A[1,0] = ratios[p]\n",
    "                elif n == 3:\n",
    "                    A[1,1] = ratios[p] \n",
    "            #sp.pprint(A)\n",
    "            #sp.pprint(B)\n",
    "            #sp.pprint(new_4x4[:,0])\n",
    "            #sp.pprint(sp.simplify(TensorProduct(A,B))[:,0])      \n",
    "            equal2, detalles2 = compare_matrices(new_4x4,sp.simplify(TensorProduct(A,B)))\n",
    "            if equal2:\n",
    "                return False\n",
    "            else:\n",
    "                return True,detalles2\n",
    "    \n",
    "                    \n",
    "result = Entangling(test1)\n",
    "print(result)"
   ]
  },
  {
   "cell_type": "code",
   "execution_count": 361,
   "metadata": {},
   "outputs": [
    {
     "name": "stdout",
     "output_type": "stream",
     "text": [
      "True\n",
      "False\n"
     ]
    }
   ],
   "source": [
    "#Pruebas\n",
    "prueba1 = sigma1f@sigma2f@sigma5f\n",
    "sp.pprint(Leakagefree(prueba1))\n",
    "sp.pprint(Entangling(prueba1))"
   ]
  },
  {
   "cell_type": "code",
   "execution_count": 362,
   "metadata": {},
   "outputs": [
    {
     "name": "stdout",
     "output_type": "stream",
     "text": [
      "False\n",
      "False\n"
     ]
    }
   ],
   "source": [
    "#Prueba\n",
    "prueba2 = sigma3f@sigma1f@sigma5f@sigma2f@sigma1f\n",
    "sp.pprint(Leakagefree(prueba2))\n",
    "sp.pprint(Entangling(prueba2))\n",
    "#sp.pprint(sp.Abs(sp.simplify(prueba2)[4,4]))"
   ]
  },
  {
   "cell_type": "code",
   "execution_count": 363,
   "metadata": {},
   "outputs": [
    {
     "name": "stdout",
     "output_type": "stream",
     "text": [
      "False\n",
      "False\n"
     ]
    }
   ],
   "source": [
    "#Prueba\n",
    "prueba3 = sigma1f@sigma2f@sigma3f@sigma5f@sigma4f@sigma4f\n",
    "sp.pprint(Leakagefree(prueba3))\n",
    "sp.pprint(Entangling(prueba3))"
   ]
  },
  {
   "cell_type": "code",
   "execution_count": 364,
   "metadata": {},
   "outputs": [
    {
     "name": "stdout",
     "output_type": "stream",
     "text": [
      "False\n",
      "False\n"
     ]
    }
   ],
   "source": [
    "#Prueba\n",
    "prueba4 = sigma5f@sigma2f@sigma3f@sigma5f@sigma2f@sigma4f@sigma3f\n",
    "sp.pprint(Leakagefree(prueba4))\n",
    "sp.pprint(Entangling(prueba4))"
   ]
  },
  {
   "cell_type": "code",
   "execution_count": 365,
   "metadata": {},
   "outputs": [
    {
     "name": "stdout",
     "output_type": "stream",
     "text": [
      "False\n",
      "False\n"
     ]
    }
   ],
   "source": [
    "#Prueba\n",
    "prueba5 = sigma5f@sigma5f@sigma5f@sigma3f@sigma4f@sigma4f\n",
    "sp.pprint(Leakagefree(prueba5))\n",
    "sp.pprint(Entangling(prueba5))"
   ]
  },
  {
   "cell_type": "code",
   "execution_count": 366,
   "metadata": {},
   "outputs": [
    {
     "name": "stdout",
     "output_type": "stream",
     "text": [
      "False\n",
      "False\n"
     ]
    }
   ],
   "source": [
    "#Prueba\n",
    "prueba6 = sigma2f@sigma2f@sigma3f@sigma2f@sigma4f@sigma5f\n",
    "sp.pprint(Leakagefree(prueba6))\n",
    "sp.pprint(Entangling(prueba6))"
   ]
  },
  {
   "cell_type": "code",
   "execution_count": 367,
   "metadata": {},
   "outputs": [
    {
     "name": "stdout",
     "output_type": "stream",
     "text": [
      "False\n",
      "False\n"
     ]
    }
   ],
   "source": [
    "#Prueba\n",
    "prueba7 = sigma4f@sigma2f@sigma3f@sigma5f@sigma4f@sigma4f@sigma5f@sigma1f@sigma2f\n",
    "sp.pprint(Leakagefree(prueba7))\n",
    "sp.pprint(Entangling(prueba7))"
   ]
  },
  {
   "cell_type": "code",
   "execution_count": 368,
   "metadata": {},
   "outputs": [
    {
     "name": "stdout",
     "output_type": "stream",
     "text": [
      "False\n",
      "False\n"
     ]
    }
   ],
   "source": [
    "#Prueba\n",
    "prueba8 = sigma1f@sigma2f@sigma3f@sigma5f@sigma4f@sigma4f@sigma1f@sigma3f\n",
    "sp.pprint(Leakagefree(prueba8))\n",
    "sp.pprint(Entangling(prueba8))"
   ]
  },
  {
   "cell_type": "code",
   "execution_count": 369,
   "metadata": {},
   "outputs": [
    {
     "name": "stdout",
     "output_type": "stream",
     "text": [
      "False\n",
      "False\n"
     ]
    }
   ],
   "source": [
    "#Prueba\n",
    "prueba9 = sigma1f@sigma2f@sigma3f@sigma5f@sigma4f@sigma5f\n",
    "sp.pprint(Leakagefree(prueba9))\n",
    "sp.pprint(Entangling(prueba9))"
   ]
  },
  {
   "cell_type": "code",
   "execution_count": 370,
   "metadata": {},
   "outputs": [
    {
     "name": "stdout",
     "output_type": "stream",
     "text": [
      "True\n",
      "False\n"
     ]
    }
   ],
   "source": [
    "#Prueba\n",
    "prueba10 = sigma1f@sigma2f\n",
    "sp.pprint(Leakagefree(prueba10))\n",
    "sp.pprint(Entangling(prueba10))"
   ]
  },
  {
   "cell_type": "code",
   "execution_count": 371,
   "metadata": {},
   "outputs": [
    {
     "name": "stdout",
     "output_type": "stream",
     "text": [
      "False\n",
      "False\n"
     ]
    }
   ],
   "source": [
    "#Prueba\n",
    "prueba11 = sigma1f@sigma2f@sigma3f\n",
    "sp.pprint(Leakagefree(prueba11))\n",
    "sp.pprint(Entangling(prueba11))"
   ]
  },
  {
   "cell_type": "code",
   "execution_count": 372,
   "metadata": {},
   "outputs": [
    {
     "name": "stdout",
     "output_type": "stream",
     "text": [
      "False\n",
      "False\n"
     ]
    }
   ],
   "source": [
    "#Prueba\n",
    "prueba12 = sigma1f@sigma2f@sigma3f@sigma4f\n",
    "sp.pprint(Leakagefree(prueba12))\n",
    "sp.pprint(Entangling(prueba12))"
   ]
  },
  {
   "cell_type": "code",
   "execution_count": 373,
   "metadata": {},
   "outputs": [
    {
     "name": "stdout",
     "output_type": "stream",
     "text": [
      "False\n",
      "False\n"
     ]
    }
   ],
   "source": [
    "#Prueba\n",
    "prueba13 = sigma1f@sigma2f@sigma3f@sigma4f@sigma5f\n",
    "sp.pprint(Leakagefree(prueba13))\n",
    "sp.pprint(Entangling(prueba13))"
   ]
  },
  {
   "cell_type": "code",
   "execution_count": 374,
   "metadata": {},
   "outputs": [
    {
     "name": "stdout",
     "output_type": "stream",
     "text": [
      "True\n",
      "False\n"
     ]
    }
   ],
   "source": [
    "#Prueba\n",
    "prueba14 = sigma1f@sigma4f@sigma4f\n",
    "sp.pprint(Leakagefree(prueba14))\n",
    "sp.pprint(Entangling(prueba14))"
   ]
  },
  {
   "cell_type": "code",
   "execution_count": 375,
   "metadata": {},
   "outputs": [
    {
     "name": "stdout",
     "output_type": "stream",
     "text": [
      "False\n",
      "False\n"
     ]
    }
   ],
   "source": [
    "#Prueba\n",
    "prueba15 = sigma2f@sigma2f@sigma1f@sigma5f@sigma3f@sigma4f\n",
    "sp.pprint(Leakagefree(prueba15))\n",
    "sp.pprint(Entangling(prueba15))"
   ]
  },
  {
   "cell_type": "code",
   "execution_count": 376,
   "metadata": {},
   "outputs": [
    {
     "name": "stdout",
     "output_type": "stream",
     "text": [
      "False\n",
      "False\n"
     ]
    }
   ],
   "source": [
    "#Prueba\n",
    "prueba16 = sigma2f@sigma2f@sigma3f@sigma4f@sigma3f@sigma4f\n",
    "sp.pprint(Leakagefree(prueba16))\n",
    "sp.pprint(Entangling(prueba16))"
   ]
  },
  {
   "cell_type": "code",
   "execution_count": 377,
   "metadata": {},
   "outputs": [
    {
     "name": "stdout",
     "output_type": "stream",
     "text": [
      "False\n",
      "False\n"
     ]
    }
   ],
   "source": [
    "#Prueba\n",
    "prueba17 = sigma5f@sigma4f@sigma3f@sigma2f@sigma1f@sigma5f@sigma4f\n",
    "sp.pprint(Leakagefree(prueba17))\n",
    "sp.pprint(Entangling(prueba17))"
   ]
  },
  {
   "cell_type": "code",
   "execution_count": 378,
   "metadata": {},
   "outputs": [
    {
     "name": "stdout",
     "output_type": "stream",
     "text": [
      "True\n",
      "False\n"
     ]
    }
   ],
   "source": [
    "#Prueba\n",
    "prueba18 = sigma1f@sigma5f@sigma4f\n",
    "sp.pprint(Leakagefree(prueba18))\n",
    "sp.pprint(Entangling(prueba18))"
   ]
  },
  {
   "cell_type": "code",
   "execution_count": 379,
   "metadata": {},
   "outputs": [
    {
     "name": "stdout",
     "output_type": "stream",
     "text": [
      "False\n",
      "False\n"
     ]
    }
   ],
   "source": [
    "#Prueba\n",
    "prueba19 = sigma1f@sigma3f@sigma2f@sigma3f@sigma5f@sigma4f@sigma1f@sigma5f@sigma3f@sigma4f\n",
    "sp.pprint(Leakagefree(prueba19))\n",
    "sp.pprint(Entangling(prueba19))"
   ]
  },
  {
   "cell_type": "code",
   "execution_count": 380,
   "metadata": {},
   "outputs": [
    {
     "name": "stdout",
     "output_type": "stream",
     "text": [
      "False\n",
      "False\n"
     ]
    }
   ],
   "source": [
    "#Prueba\n",
    "prueba20 = sigma1f@sigma2f@sigma5f@sigma5f@sigma3f@sigma4f@sigma2f@sigma4f@sigma5f\n",
    "sp.pprint(Leakagefree(prueba3))\n",
    "sp.pprint(Entangling(prueba3))"
   ]
  }
 ],
 "metadata": {
  "kernelspec": {
   "display_name": "Python 3",
   "language": "python",
   "name": "python3"
  },
  "language_info": {
   "codemirror_mode": {
    "name": "ipython",
    "version": 3
   },
   "file_extension": ".py",
   "mimetype": "text/x-python",
   "name": "python",
   "nbconvert_exporter": "python",
   "pygments_lexer": "ipython3",
   "version": "3.11.9"
  }
 },
 "nbformat": 4,
 "nbformat_minor": 2
}
